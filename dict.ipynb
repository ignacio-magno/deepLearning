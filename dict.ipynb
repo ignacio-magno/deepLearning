{
 "cells": [
  {
   "cell_type": "code",
   "execution_count": 25,
   "id": "initial_id",
   "metadata": {
    "collapsed": true,
    "ExecuteTime": {
     "end_time": "2023-09-03T19:28:34.464302600Z",
     "start_time": "2023-09-03T19:28:34.438226100Z"
    }
   },
   "outputs": [],
   "source": [
    "a = {\"a\": \"b\", \"c\": \"d\"}"
   ]
  },
  {
   "cell_type": "code",
   "execution_count": 45,
   "outputs": [
    {
     "data": {
      "text/plain": "{'b': 'a', 'd': 'c'}"
     },
     "execution_count": 45,
     "metadata": {},
     "output_type": "execute_result"
    }
   ],
   "source": [
    "b = dict((value, key) for (key, value) in a.items())\n",
    "b"
   ],
   "metadata": {
    "collapsed": false,
    "ExecuteTime": {
     "end_time": "2023-09-03T19:32:46.295936500Z",
     "start_time": "2023-09-03T19:32:46.263972200Z"
    }
   },
   "id": "a6812e795b6dc464"
  },
  {
   "cell_type": "code",
   "execution_count": 46,
   "outputs": [
    {
     "data": {
      "text/plain": "dict"
     },
     "execution_count": 46,
     "metadata": {},
     "output_type": "execute_result"
    }
   ],
   "source": [
    "type(a)"
   ],
   "metadata": {
    "collapsed": false,
    "ExecuteTime": {
     "end_time": "2023-09-03T19:36:52.086149500Z",
     "start_time": "2023-09-03T19:36:52.023747400Z"
    }
   },
   "id": "9baa84acf3d84c4"
  },
  {
   "cell_type": "code",
   "execution_count": 49,
   "outputs": [
    {
     "name": "stdout",
     "output_type": "stream",
     "text": [
      "a c\n"
     ]
    }
   ],
   "source": [
    "print(\" \".join([\"a\", \"c\"]))"
   ],
   "metadata": {
    "collapsed": false,
    "ExecuteTime": {
     "end_time": "2023-09-03T20:33:02.660802800Z",
     "start_time": "2023-09-03T20:33:02.641317200Z"
    }
   },
   "id": "c2e2f7714e963a63"
  },
  {
   "cell_type": "code",
   "execution_count": 62,
   "outputs": [
    {
     "name": "stdout",
     "output_type": "stream",
     "text": [
      "0 [0. 0.]\n",
      "1 [0. 0.]\n"
     ]
    }
   ],
   "source": [
    "import numpy as np\n",
    "\n",
    "r = np.zeros((2, 2))\n",
    "\n",
    "for i, z in enumerate(r):\n",
    "    print(i, z)"
   ],
   "metadata": {
    "collapsed": false,
    "ExecuteTime": {
     "end_time": "2023-09-03T20:35:16.876299900Z",
     "start_time": "2023-09-03T20:35:16.854085800Z"
    }
   },
   "id": "869d09e656465af1"
  }
 ],
 "metadata": {
  "kernelspec": {
   "display_name": "Python 3",
   "language": "python",
   "name": "python3"
  },
  "language_info": {
   "codemirror_mode": {
    "name": "ipython",
    "version": 2
   },
   "file_extension": ".py",
   "mimetype": "text/x-python",
   "name": "python",
   "nbconvert_exporter": "python",
   "pygments_lexer": "ipython2",
   "version": "2.7.6"
  }
 },
 "nbformat": 4,
 "nbformat_minor": 5
}
